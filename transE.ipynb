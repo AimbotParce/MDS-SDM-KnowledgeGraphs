{
 "cells": [
  {
   "cell_type": "code",
   "execution_count": null,
   "id": "a1d659a7",
   "metadata": {},
   "outputs": [],
   "source": [
    "%pip install torch --extra-index-url https://download.pytorch.org/whl/cu128"
   ]
  },
  {
   "cell_type": "code",
   "execution_count": null,
   "id": "e961e8d6",
   "metadata": {},
   "outputs": [],
   "source": [
    "import torch\n",
    "import pykeen\n",
    "import pandas as pd\n",
    "from pykeen import predict\n",
    "from tqdm import tqdm\n",
    "from pykeen.datasets import Nations\n",
    "from pykeen.pipeline import pipeline\n",
    "from pykeen.triples import TriplesFactory"
   ]
  },
  {
   "cell_type": "code",
   "execution_count": 2,
   "id": "c169bf4a",
   "metadata": {},
   "outputs": [
    {
     "data": {
      "text/plain": [
       "'cuda'"
      ]
     },
     "execution_count": 2,
     "metadata": {},
     "output_type": "execute_result"
    }
   ],
   "source": [
    "device = \"cuda\" if torch.cuda.is_available() else \"cpu\"\n",
    "device"
   ]
  },
  {
   "cell_type": "code",
   "execution_count": 3,
   "id": "2ef5b82e",
   "metadata": {},
   "outputs": [
    {
     "name": "stderr",
     "output_type": "stream",
     "text": [
      "using automatically assigned random_state=595865306\n",
      "Training epochs on cuda:0: 100%|██████████| 20/20 [09:59<00:00, 29.97s/epoch, loss=0.827, prev_loss=0.848]\n",
      "Evaluating on cuda:0: 100%|██████████| 125k/125k [49:44<00:00, 41.9triple/s]    \n",
      "INFO:pykeen.evaluation.evaluator:Evaluation took 3089.84s seconds\n"
     ]
    }
   ],
   "source": [
    "file_path = \"data/all-triples.tsv\"\n",
    "tf = TriplesFactory.from_path(file_path)\n",
    "training, testing = tf.split()\n",
    "\n",
    "result = pipeline(\n",
    "    training=training,\n",
    "    testing=testing,\n",
    "    model=\"TransE\",\n",
    "    model_kwargs=dict(\n",
    "        embedding_dim=128,\n",
    "    ),\n",
    "    training_kwargs=dict(num_epochs=20),\n",
    "    optimizer_kwargs=dict(\n",
    "        lr=0.01,\n",
    "    ),\n",
    "    negative_sampler_kwargs=dict(\n",
    "        num_negs_per_pos=1,\n",
    "    ),\n",
    "    random_seed=2025,\n",
    "    device=device,\n",
    ")"
   ]
  },
  {
   "cell_type": "code",
   "execution_count": null,
   "id": "0a1efdeb",
   "metadata": {},
   "outputs": [
    {
     "data": {
      "text/plain": [
       "{'arithmetic_mean_rank': 46402.50390625,\n",
       " 'adjusted_arithmetic_mean_rank_index': 0.5973290901397814,\n",
       " 'harmonic_mean_rank': 56.25301742553711,\n",
       " 'inverse_arithmetic_mean_rank': 2.1550560632022098e-05,\n",
       " 'z_arithmetic_mean_rank': 516.8924445406119,\n",
       " 'median_absolute_deviation': 23518.51953125,\n",
       " 'standard_deviation': 62948.8046875,\n",
       " 'inverse_geometric_mean_rank': 0.00010474642476765439,\n",
       " 'adjusted_inverse_harmonic_mean_rank': 0.01772143769065738,\n",
       " 'adjusted_geometric_mean_rank_index': 0.8871474310432702,\n",
       " 'adjusted_arithmetic_mean_rank': 0.4026760934198168,\n",
       " 'count': 250368.0,\n",
       " 'geometric_mean_rank': 9546.865234375,\n",
       " 'variance': 3962552064.0,\n",
       " 'median_rank': 16897.0,\n",
       " 'inverse_median_rank': 5.9182104450883344e-05,\n",
       " 'z_inverse_harmonic_mean_rank': 3309.2226051967723,\n",
       " 'inverse_harmonic_mean_rank': 0.01777682453393936,\n",
       " 'z_geometric_mean_rank': 443.01781981447516,\n",
       " 'hits_at_1': 0.010200984151329244,\n",
       " 'hits_at_3': 0.016539653629856852,\n",
       " 'hits_at_5': 0.0218478399795501,\n",
       " 'hits_at_10': 0.032456224437627815,\n",
       " 'z_hits_at_k': 2454.4315744633386,\n",
       " 'adjusted_hits_at_k': 0.03241397582420002}"
      ]
     },
     "execution_count": 4,
     "metadata": {},
     "output_type": "execute_result"
    }
   ],
   "source": [
    "evaluation = result.metric_results.to_dict()\n",
    "evaluation[\"both\"][\"realistic\"]"
   ]
  },
  {
   "cell_type": "code",
   "execution_count": 5,
   "id": "df57b73e",
   "metadata": {},
   "outputs": [
    {
     "name": "stderr",
     "output_type": "stream",
     "text": [
      "INFO:pykeen.triples.triples_factory:Stored TriplesFactory(num_entities=233568, num_relations=31, create_inverse_triples=False, num_triples=500732, path=\"C:\\Users\\mirxm\\Storage\\Work\\MDS\\S2\\SDM\\MDS-SDM-KnowledgeGraphs\\data\\all-triples.tsv\") to file:///C:/Users/mirxm/Storage/Work/MDS/S2/SDM/MDS-SDM-KnowledgeGraphs/models/TransE-citations/training_triples\n",
      "INFO:pykeen.pipeline.api:Saved to directory: C:\\Users\\mirxm\\Storage\\Work\\MDS\\S2\\SDM\\MDS-SDM-KnowledgeGraphs\\models\\TransE-citations\n"
     ]
    }
   ],
   "source": [
    "model_name = \"models/TransE-citations\"\n",
    "result.save_to_directory(model_name)"
   ]
  },
  {
   "cell_type": "code",
   "execution_count": 47,
   "id": "95fce89e",
   "metadata": {},
   "outputs": [
    {
     "data": {
      "text/plain": [
       "tensor([[-0.7020, -0.8736, -0.5925,  0.7052,  0.8225,  0.3836,  0.8972,  0.5763,\n",
       "         -0.5136, -0.8015, -0.6995,  0.6513,  0.6877, -0.5894, -0.4934,  0.5679,\n",
       "         -0.4491, -0.7458,  0.4608,  0.4312,  0.8349,  0.5733,  0.6251, -0.4017,\n",
       "          0.4085,  0.9795,  0.8753, -0.9154, -0.7960,  0.7691, -0.6825,  0.9012,\n",
       "          0.5441,  0.3967, -0.7976, -0.3305, -0.5742,  0.6769,  0.8904, -0.6991,\n",
       "         -0.6508,  0.7800, -0.6128,  0.8578,  0.7282, -0.6481,  0.6588,  0.3019,\n",
       "          0.5706,  0.5211, -0.5264,  0.7440,  0.2343,  0.5904, -0.6826, -0.3179,\n",
       "          0.8127, -0.2189, -0.5577, -0.8598, -0.8841,  0.6710,  0.7654, -0.7284,\n",
       "          0.4767,  0.5447, -0.6710, -0.6777,  0.6289, -0.5766,  0.5180,  0.1861,\n",
       "         -0.4970,  0.7441,  0.8478,  0.7972,  0.4674,  0.6009, -0.7228, -0.7455,\n",
       "          0.6057,  0.7872, -0.5417, -0.8778, -0.4841,  0.6332, -0.5395,  0.5828,\n",
       "          0.4850,  0.6832, -0.5006,  0.5851, -0.5848,  0.4399, -0.5171,  0.5813,\n",
       "         -0.8746, -0.6425,  0.8059,  0.3966, -0.8609, -0.3382, -0.8269, -0.3990,\n",
       "         -0.4412,  0.5704,  0.4366, -0.8225,  0.7310,  0.6177,  0.7533,  0.8044,\n",
       "         -0.6921, -0.7771,  0.3539, -0.5148, -0.9274,  0.5118, -0.4246, -0.7092,\n",
       "         -0.6253,  0.5225, -0.9265,  0.8340,  0.9025, -0.5358,  0.7602,  0.6172]],\n",
       "       device='cuda:0', grad_fn=<AddBackward0>)"
      ]
     },
     "execution_count": 47,
     "metadata": {},
     "output_type": "execute_result"
    }
   ],
   "source": [
    "p = \"http://localhost:7200/academia-sdm#\"\n",
    "paper = f\"<{p}d5db5bea38363c0d5cdee5800d4ad8f8ace7e223>\"\n",
    "paperCites = f\"<{p}paperCites>\"\n",
    "entity_embeddings = result.model.entity_representations[0]\n",
    "relation_embeddings = result.model.relation_representations[0]\n",
    "sub_id = result.training.entity_to_id[paper]\n",
    "sub_rep = entity_embeddings(indices=torch.as_tensor([sub_id], device=device))\n",
    "rel_id = result.training.relation_to_id[paperCites]\n",
    "rel_rep = relation_embeddings(indices=torch.as_tensor([rel_id], device=device))\n",
    "pred_paper = sub_rep + rel_rep\n",
    "pred_paper"
   ]
  },
  {
   "cell_type": "code",
   "execution_count": 48,
   "id": "0120871f",
   "metadata": {},
   "outputs": [
    {
     "data": {
      "text/plain": [
       "tensor([[ 0.2924, -1.3298, -1.6635,  1.7594,  1.7414, -0.1195,  1.6844,  1.2653,\n",
       "         -0.9800, -1.3469, -1.5663, -0.1245,  0.2189, -1.5981, -0.0238,  1.3253,\n",
       "          0.3497, -1.4278, -0.5327, -0.1061,  1.7843,  0.0371,  0.0336,  0.1283,\n",
       "          1.1998,  1.8891,  0.0280, -0.2929, -1.8597,  0.2589, -1.2185,  1.5007,\n",
       "          1.1800, -0.4292, -1.6534,  0.1060, -0.9417,  1.6023,  1.4339, -1.6423,\n",
       "         -0.1597,  1.2568, -0.9730,  1.4017,  1.4420, -0.0043,  1.4725, -0.3619,\n",
       "          0.1293,  0.1423,  0.0130,  0.3503, -0.4665, -0.2198, -0.3074, -1.1988,\n",
       "          0.2273,  0.4109, -0.4733, -1.2696, -1.4892, -0.1301,  1.6104, -1.6864,\n",
       "          1.5754,  0.0726,  0.0929,  0.2118,  1.4135,  0.0440,  0.8931, -0.6286,\n",
       "          0.3418,  0.3278,  1.4843,  1.7535, -0.3342,  1.3228,  0.2171, -1.3634,\n",
       "          1.5368,  0.0378, -0.0444, -1.4668,  0.5159, -0.0210,  0.4502,  0.1435,\n",
       "         -0.4131,  0.0848, -0.9556, -0.2609, -1.2237, -0.0265, -1.4569, -0.1677,\n",
       "         -0.2719, -0.0621,  1.3416, -0.3292, -1.6027, -1.2753, -1.6477,  0.2251,\n",
       "          0.2552,  1.4495, -0.2887, -1.9561,  1.0143, -0.1492,  1.7343,  0.4158,\n",
       "         -0.1217, -0.3620, -0.7044, -0.0451, -1.6600, -0.4318, -1.3046, -0.0689,\n",
       "          0.0369, -0.0181, -1.8024,  1.6248, -0.0581, -1.1708,  1.3957, -0.1781]],\n",
       "       device='cuda:0', grad_fn=<AddBackward0>)"
      ]
     },
     "execution_count": 48,
     "metadata": {},
     "output_type": "execute_result"
    }
   ],
   "source": [
    "writesPaper = f\"<{p}writesPaper>\"\n",
    "writes_id = result.training.relation_to_id[writesPaper]\n",
    "writes_rep = relation_embeddings(indices=torch.as_tensor([writes_id], device=device))\n",
    "pred_auth = pred_paper + writes_rep\n",
    "pred_auth"
   ]
  },
  {
   "cell_type": "code",
   "execution_count": 63,
   "id": "9796c88e",
   "metadata": {},
   "outputs": [],
   "source": [
    "with open(\"data/all-authors.tsv\", \"r\") as f:\n",
    "    authors = set(f.read().splitlines())"
   ]
  },
  {
   "cell_type": "code",
   "execution_count": 64,
   "id": "2adb187a",
   "metadata": {},
   "outputs": [
    {
     "name": "stderr",
     "output_type": "stream",
     "text": [
      "100%|██████████| 233568/233568 [00:03<00:00, 61895.77it/s] "
     ]
    },
    {
     "name": "stdout",
     "output_type": "stream",
     "text": [
      "Best author: <http://localhost:7200/academia-sdm#47030051> with distance 10.815679550170898\n"
     ]
    },
    {
     "name": "stderr",
     "output_type": "stream",
     "text": [
      "\n"
     ]
    }
   ],
   "source": [
    "best_auth = None\n",
    "best_auth_dist = -1.0\n",
    "for auth, auth_id in tqdm(result.training.entity_to_id.items()):\n",
    "    if auth not in authors:\n",
    "        continue\n",
    "    auth_rep = entity_embeddings(indices=torch.as_tensor([auth_id], device=device))\n",
    "    dist = torch.cdist(pred_auth, auth_rep)\n",
    "    if dist < best_auth_dist or best_auth is None:\n",
    "        best_auth = auth\n",
    "        best_auth_dist = dist\n",
    "\n",
    "print(f\"Best author: {best_auth} with distance {best_auth_dist.item()}\")"
   ]
  }
 ],
 "metadata": {
  "kernelspec": {
   "display_name": ".venv",
   "language": "python",
   "name": "python3"
  },
  "language_info": {
   "codemirror_mode": {
    "name": "ipython",
    "version": 3
   },
   "file_extension": ".py",
   "mimetype": "text/x-python",
   "name": "python",
   "nbconvert_exporter": "python",
   "pygments_lexer": "ipython3",
   "version": "3.13.4"
  }
 },
 "nbformat": 4,
 "nbformat_minor": 5
}
